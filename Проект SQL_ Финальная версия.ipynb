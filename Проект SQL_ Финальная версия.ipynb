{
 "cells": [
  {
   "cell_type": "markdown",
   "id": "7ca39bdd",
   "metadata": {},
   "source": [
    "# Анализ базы данных книг и отзывов/обзоров на них"
   ]
  },
  {
   "cell_type": "markdown",
   "id": "ded005d1",
   "metadata": {},
   "source": [
    "Коронавирус застал мир врасплох, изменив привычный порядок вещей. В свободное время жители городов больше не выходят на улицу, не посещают кафе и торговые центры. Зато стало больше времени для книг. Это заметили стартаперы — и бросились создавать приложения для тех, кто любит читать.\n",
    "\n",
    "Ваша компания решила быть на волне и купила крупный сервис для чтения книг по подписке. Ваша первая задача как аналитика — проанализировать базу данных.\n",
    "В ней — информация о книгах, издательствах, авторах, а также пользовательские обзоры книг. Эти данные помогут сформулировать ценностное предложение для нового продукта."
   ]
  },
  {
   "cell_type": "markdown",
   "id": "c98be994",
   "metadata": {},
   "source": [
    "**Цель проекта:** на основе информации в базе данных сформировать список наиболее популярных авторов книг и издательств, которые занимаются выпуском книг, а так же определение среднего количества обзоров от поьзователей с целью дальнейшего формирования предложения для пользователей и прогнозирования их активности."
   ]
  },
  {
   "cell_type": "markdown",
   "id": "b47fadfd",
   "metadata": {},
   "source": [
    "**План проекта:**\n",
    "1. Получение общей информации о даных таблицах (просмотр первых строк).\n",
    "2. Исследовательсткий анализ даных:\n",
    "\n",
    "    2.1. Анализ количества выпущенных книг после 1 января 2000 года.\n",
    "    \n",
    "    2.2. Анализ книг и определение количества обзоров и средней оценки;\n",
    "    \n",
    "    2.3. Определение издательства, которое выпустило наибольшее число книг толще 50 страниц.\n",
    "    \n",
    "    2.4. Определение автора с самой высокой средней оценкой книг (в анализе не участвуют книги с оценками менее 50)\n",
    "    \n",
    "    2.5. Определение среднего количества обзоров от пользователей (в анализе не участвуют пользователи с количеством оценок менее 50)\n",
    "    \n",
    "3. Выводы"
   ]
  },
  {
   "cell_type": "markdown",
   "id": "547a9b11",
   "metadata": {},
   "source": [
    "### 1. Получение общей информации о данных в таблицах"
   ]
  },
  {
   "cell_type": "code",
   "execution_count": 1,
   "id": "366a8aa4",
   "metadata": {},
   "outputs": [],
   "source": [
    "# импортируем библиотеки\n",
    "import pandas as pd\n",
    "from sqlalchemy import create_engine"
   ]
  },
  {
   "cell_type": "code",
   "execution_count": 3,
   "id": "2a6e940d",
   "metadata": {},
   "outputs": [],
   "source": [
    "connection_string = 'postgresql://{}:{}@{}:{}/{}'.format(db_config['user'],\n",
    "                                                         db_config['pwd'],\n",
    "                                                         db_config['host'],\n",
    "                                                         db_config['port'],\n",
    "                                                         db_config['db'])\n",
    "\n",
    "# сохраняем коннектор\n",
    "engine = create_engine(connection_string, connect_args={'sslmode':'require'})"
   ]
  },
  {
   "cell_type": "code",
   "execution_count": 4,
   "id": "6afb237e",
   "metadata": {},
   "outputs": [
    {
     "data": {
      "text/plain": [
       "['books', 'authors', 'publishers', 'ratings', 'reviews']"
      ]
     },
     "execution_count": 4,
     "metadata": {},
     "output_type": "execute_result"
    }
   ],
   "source": [
    "# создадим список с названием таблиц базы данных\n",
    "tables = ['books', 'authors', 'publishers', 'ratings', 'reviews']\n",
    "tables"
   ]
  },
  {
   "cell_type": "code",
   "execution_count": 5,
   "id": "286387d7",
   "metadata": {},
   "outputs": [],
   "source": [
    "def my_func(query):\n",
    "    return pd.io.sql.read_sql(query, con = engine)"
   ]
  },
  {
   "cell_type": "code",
   "execution_count": 6,
   "id": "dbbaafbf",
   "metadata": {},
   "outputs": [
    {
     "name": "stdout",
     "output_type": "stream",
     "text": [
      "Количество строк в таблице books - 1000. Выведем первые 5 строк\n"
     ]
    },
    {
     "data": {
      "text/html": [
       "<div>\n",
       "<style scoped>\n",
       "    .dataframe tbody tr th:only-of-type {\n",
       "        vertical-align: middle;\n",
       "    }\n",
       "\n",
       "    .dataframe tbody tr th {\n",
       "        vertical-align: top;\n",
       "    }\n",
       "\n",
       "    .dataframe thead th {\n",
       "        text-align: right;\n",
       "    }\n",
       "</style>\n",
       "<table border=\"1\" class=\"dataframe\">\n",
       "  <thead>\n",
       "    <tr style=\"text-align: right;\">\n",
       "      <th></th>\n",
       "      <th>book_id</th>\n",
       "      <th>author_id</th>\n",
       "      <th>title</th>\n",
       "      <th>num_pages</th>\n",
       "      <th>publication_date</th>\n",
       "      <th>publisher_id</th>\n",
       "    </tr>\n",
       "  </thead>\n",
       "  <tbody>\n",
       "    <tr>\n",
       "      <th>0</th>\n",
       "      <td>1</td>\n",
       "      <td>546</td>\n",
       "      <td>'Salem's Lot</td>\n",
       "      <td>594</td>\n",
       "      <td>2005-11-01</td>\n",
       "      <td>93</td>\n",
       "    </tr>\n",
       "    <tr>\n",
       "      <th>1</th>\n",
       "      <td>2</td>\n",
       "      <td>465</td>\n",
       "      <td>1 000 Places to See Before You Die</td>\n",
       "      <td>992</td>\n",
       "      <td>2003-05-22</td>\n",
       "      <td>336</td>\n",
       "    </tr>\n",
       "    <tr>\n",
       "      <th>2</th>\n",
       "      <td>3</td>\n",
       "      <td>407</td>\n",
       "      <td>13 Little Blue Envelopes (Little Blue Envelope...</td>\n",
       "      <td>322</td>\n",
       "      <td>2010-12-21</td>\n",
       "      <td>135</td>\n",
       "    </tr>\n",
       "    <tr>\n",
       "      <th>3</th>\n",
       "      <td>4</td>\n",
       "      <td>82</td>\n",
       "      <td>1491: New Revelations of the Americas Before C...</td>\n",
       "      <td>541</td>\n",
       "      <td>2006-10-10</td>\n",
       "      <td>309</td>\n",
       "    </tr>\n",
       "    <tr>\n",
       "      <th>4</th>\n",
       "      <td>5</td>\n",
       "      <td>125</td>\n",
       "      <td>1776</td>\n",
       "      <td>386</td>\n",
       "      <td>2006-07-04</td>\n",
       "      <td>268</td>\n",
       "    </tr>\n",
       "  </tbody>\n",
       "</table>\n",
       "</div>"
      ],
      "text/plain": [
       "   book_id  author_id                                              title  \\\n",
       "0        1        546                                       'Salem's Lot   \n",
       "1        2        465                 1 000 Places to See Before You Die   \n",
       "2        3        407  13 Little Blue Envelopes (Little Blue Envelope...   \n",
       "3        4         82  1491: New Revelations of the Americas Before C...   \n",
       "4        5        125                                               1776   \n",
       "\n",
       "   num_pages publication_date  publisher_id  \n",
       "0        594       2005-11-01            93  \n",
       "1        992       2003-05-22           336  \n",
       "2        322       2010-12-21           135  \n",
       "3        541       2006-10-10           309  \n",
       "4        386       2006-07-04           268  "
      ]
     },
     "metadata": {},
     "output_type": "display_data"
    },
    {
     "name": "stdout",
     "output_type": "stream",
     "text": [
      "_____________________________________________\n",
      "\n",
      "\n",
      "Количество строк в таблице authors - 636. Выведем первые 5 строк\n"
     ]
    },
    {
     "data": {
      "text/html": [
       "<div>\n",
       "<style scoped>\n",
       "    .dataframe tbody tr th:only-of-type {\n",
       "        vertical-align: middle;\n",
       "    }\n",
       "\n",
       "    .dataframe tbody tr th {\n",
       "        vertical-align: top;\n",
       "    }\n",
       "\n",
       "    .dataframe thead th {\n",
       "        text-align: right;\n",
       "    }\n",
       "</style>\n",
       "<table border=\"1\" class=\"dataframe\">\n",
       "  <thead>\n",
       "    <tr style=\"text-align: right;\">\n",
       "      <th></th>\n",
       "      <th>author_id</th>\n",
       "      <th>author</th>\n",
       "    </tr>\n",
       "  </thead>\n",
       "  <tbody>\n",
       "    <tr>\n",
       "      <th>0</th>\n",
       "      <td>1</td>\n",
       "      <td>A.S. Byatt</td>\n",
       "    </tr>\n",
       "    <tr>\n",
       "      <th>1</th>\n",
       "      <td>2</td>\n",
       "      <td>Aesop/Laura Harris/Laura Gibbs</td>\n",
       "    </tr>\n",
       "    <tr>\n",
       "      <th>2</th>\n",
       "      <td>3</td>\n",
       "      <td>Agatha Christie</td>\n",
       "    </tr>\n",
       "    <tr>\n",
       "      <th>3</th>\n",
       "      <td>4</td>\n",
       "      <td>Alan Brennert</td>\n",
       "    </tr>\n",
       "    <tr>\n",
       "      <th>4</th>\n",
       "      <td>5</td>\n",
       "      <td>Alan Moore/David   Lloyd</td>\n",
       "    </tr>\n",
       "  </tbody>\n",
       "</table>\n",
       "</div>"
      ],
      "text/plain": [
       "   author_id                          author\n",
       "0          1                      A.S. Byatt\n",
       "1          2  Aesop/Laura Harris/Laura Gibbs\n",
       "2          3                 Agatha Christie\n",
       "3          4                   Alan Brennert\n",
       "4          5        Alan Moore/David   Lloyd"
      ]
     },
     "metadata": {},
     "output_type": "display_data"
    },
    {
     "name": "stdout",
     "output_type": "stream",
     "text": [
      "_____________________________________________\n",
      "\n",
      "\n",
      "Количество строк в таблице publishers - 340. Выведем первые 5 строк\n"
     ]
    },
    {
     "data": {
      "text/html": [
       "<div>\n",
       "<style scoped>\n",
       "    .dataframe tbody tr th:only-of-type {\n",
       "        vertical-align: middle;\n",
       "    }\n",
       "\n",
       "    .dataframe tbody tr th {\n",
       "        vertical-align: top;\n",
       "    }\n",
       "\n",
       "    .dataframe thead th {\n",
       "        text-align: right;\n",
       "    }\n",
       "</style>\n",
       "<table border=\"1\" class=\"dataframe\">\n",
       "  <thead>\n",
       "    <tr style=\"text-align: right;\">\n",
       "      <th></th>\n",
       "      <th>publisher_id</th>\n",
       "      <th>publisher</th>\n",
       "    </tr>\n",
       "  </thead>\n",
       "  <tbody>\n",
       "    <tr>\n",
       "      <th>0</th>\n",
       "      <td>1</td>\n",
       "      <td>Ace</td>\n",
       "    </tr>\n",
       "    <tr>\n",
       "      <th>1</th>\n",
       "      <td>2</td>\n",
       "      <td>Ace Book</td>\n",
       "    </tr>\n",
       "    <tr>\n",
       "      <th>2</th>\n",
       "      <td>3</td>\n",
       "      <td>Ace Books</td>\n",
       "    </tr>\n",
       "    <tr>\n",
       "      <th>3</th>\n",
       "      <td>4</td>\n",
       "      <td>Ace Hardcover</td>\n",
       "    </tr>\n",
       "    <tr>\n",
       "      <th>4</th>\n",
       "      <td>5</td>\n",
       "      <td>Addison Wesley Publishing Company</td>\n",
       "    </tr>\n",
       "  </tbody>\n",
       "</table>\n",
       "</div>"
      ],
      "text/plain": [
       "   publisher_id                          publisher\n",
       "0             1                                Ace\n",
       "1             2                           Ace Book\n",
       "2             3                          Ace Books\n",
       "3             4                      Ace Hardcover\n",
       "4             5  Addison Wesley Publishing Company"
      ]
     },
     "metadata": {},
     "output_type": "display_data"
    },
    {
     "name": "stdout",
     "output_type": "stream",
     "text": [
      "_____________________________________________\n",
      "\n",
      "\n",
      "Количество строк в таблице ratings - 6456. Выведем первые 5 строк\n"
     ]
    },
    {
     "data": {
      "text/html": [
       "<div>\n",
       "<style scoped>\n",
       "    .dataframe tbody tr th:only-of-type {\n",
       "        vertical-align: middle;\n",
       "    }\n",
       "\n",
       "    .dataframe tbody tr th {\n",
       "        vertical-align: top;\n",
       "    }\n",
       "\n",
       "    .dataframe thead th {\n",
       "        text-align: right;\n",
       "    }\n",
       "</style>\n",
       "<table border=\"1\" class=\"dataframe\">\n",
       "  <thead>\n",
       "    <tr style=\"text-align: right;\">\n",
       "      <th></th>\n",
       "      <th>rating_id</th>\n",
       "      <th>book_id</th>\n",
       "      <th>username</th>\n",
       "      <th>rating</th>\n",
       "    </tr>\n",
       "  </thead>\n",
       "  <tbody>\n",
       "    <tr>\n",
       "      <th>0</th>\n",
       "      <td>1</td>\n",
       "      <td>1</td>\n",
       "      <td>ryanfranco</td>\n",
       "      <td>4</td>\n",
       "    </tr>\n",
       "    <tr>\n",
       "      <th>1</th>\n",
       "      <td>2</td>\n",
       "      <td>1</td>\n",
       "      <td>grantpatricia</td>\n",
       "      <td>2</td>\n",
       "    </tr>\n",
       "    <tr>\n",
       "      <th>2</th>\n",
       "      <td>3</td>\n",
       "      <td>1</td>\n",
       "      <td>brandtandrea</td>\n",
       "      <td>5</td>\n",
       "    </tr>\n",
       "    <tr>\n",
       "      <th>3</th>\n",
       "      <td>4</td>\n",
       "      <td>2</td>\n",
       "      <td>lorichen</td>\n",
       "      <td>3</td>\n",
       "    </tr>\n",
       "    <tr>\n",
       "      <th>4</th>\n",
       "      <td>5</td>\n",
       "      <td>2</td>\n",
       "      <td>mariokeller</td>\n",
       "      <td>2</td>\n",
       "    </tr>\n",
       "  </tbody>\n",
       "</table>\n",
       "</div>"
      ],
      "text/plain": [
       "   rating_id  book_id       username  rating\n",
       "0          1        1     ryanfranco       4\n",
       "1          2        1  grantpatricia       2\n",
       "2          3        1   brandtandrea       5\n",
       "3          4        2       lorichen       3\n",
       "4          5        2    mariokeller       2"
      ]
     },
     "metadata": {},
     "output_type": "display_data"
    },
    {
     "name": "stdout",
     "output_type": "stream",
     "text": [
      "_____________________________________________\n",
      "\n",
      "\n",
      "Количество строк в таблице reviews - 2793. Выведем первые 5 строк\n"
     ]
    },
    {
     "data": {
      "text/html": [
       "<div>\n",
       "<style scoped>\n",
       "    .dataframe tbody tr th:only-of-type {\n",
       "        vertical-align: middle;\n",
       "    }\n",
       "\n",
       "    .dataframe tbody tr th {\n",
       "        vertical-align: top;\n",
       "    }\n",
       "\n",
       "    .dataframe thead th {\n",
       "        text-align: right;\n",
       "    }\n",
       "</style>\n",
       "<table border=\"1\" class=\"dataframe\">\n",
       "  <thead>\n",
       "    <tr style=\"text-align: right;\">\n",
       "      <th></th>\n",
       "      <th>review_id</th>\n",
       "      <th>book_id</th>\n",
       "      <th>username</th>\n",
       "      <th>text</th>\n",
       "    </tr>\n",
       "  </thead>\n",
       "  <tbody>\n",
       "    <tr>\n",
       "      <th>0</th>\n",
       "      <td>1</td>\n",
       "      <td>1</td>\n",
       "      <td>brandtandrea</td>\n",
       "      <td>Mention society tell send professor analysis. ...</td>\n",
       "    </tr>\n",
       "    <tr>\n",
       "      <th>1</th>\n",
       "      <td>2</td>\n",
       "      <td>1</td>\n",
       "      <td>ryanfranco</td>\n",
       "      <td>Foot glass pretty audience hit themselves. Amo...</td>\n",
       "    </tr>\n",
       "    <tr>\n",
       "      <th>2</th>\n",
       "      <td>3</td>\n",
       "      <td>2</td>\n",
       "      <td>lorichen</td>\n",
       "      <td>Listen treat keep worry. Miss husband tax but ...</td>\n",
       "    </tr>\n",
       "    <tr>\n",
       "      <th>3</th>\n",
       "      <td>4</td>\n",
       "      <td>3</td>\n",
       "      <td>johnsonamanda</td>\n",
       "      <td>Finally month interesting blue could nature cu...</td>\n",
       "    </tr>\n",
       "    <tr>\n",
       "      <th>4</th>\n",
       "      <td>5</td>\n",
       "      <td>3</td>\n",
       "      <td>scotttamara</td>\n",
       "      <td>Nation purpose heavy give wait song will. List...</td>\n",
       "    </tr>\n",
       "  </tbody>\n",
       "</table>\n",
       "</div>"
      ],
      "text/plain": [
       "   review_id  book_id       username  \\\n",
       "0          1        1   brandtandrea   \n",
       "1          2        1     ryanfranco   \n",
       "2          3        2       lorichen   \n",
       "3          4        3  johnsonamanda   \n",
       "4          5        3    scotttamara   \n",
       "\n",
       "                                                text  \n",
       "0  Mention society tell send professor analysis. ...  \n",
       "1  Foot glass pretty audience hit themselves. Amo...  \n",
       "2  Listen treat keep worry. Miss husband tax but ...  \n",
       "3  Finally month interesting blue could nature cu...  \n",
       "4  Nation purpose heavy give wait song will. List...  "
      ]
     },
     "metadata": {},
     "output_type": "display_data"
    },
    {
     "name": "stdout",
     "output_type": "stream",
     "text": [
      "_____________________________________________\n",
      "\n",
      "\n"
     ]
    }
   ],
   "source": [
    "for i in tables:\n",
    "    query = f'''\n",
    "                SELECT *\n",
    "                FROM {i};\n",
    "    ''' \n",
    "    print('Количество строк в таблице {} - {}. Выведем первые 5 строк'\n",
    "          .format(i, len(my_func(query))))\n",
    "\n",
    "    query = f'''\n",
    "                SELECT *\n",
    "                FROM {i}\n",
    "                LIMIT 5;\n",
    "    ''' \n",
    "    display(my_func(query))\n",
    "    print('___' * 15)\n",
    "    print('\\n')"
   ]
  },
  {
   "cell_type": "markdown",
   "id": "021edfe7",
   "metadata": {},
   "source": [
    "**Таблица `books`**\n",
    "\n",
    "Содержит данные о книгах:\n",
    "\n",
    "- `book_id` — идентификатор книги;\n",
    "- `author_id` — идентификатор автора;\n",
    "- `title` — название книги;\n",
    "- `num_pages` — количество страниц;\n",
    "- `publication_date` — дата публикации книги;\n",
    "- `publisher_id` — идентификатор издателя.\n",
    "\n",
    "**Таблица `authors`**\n",
    "\n",
    "Содержит данные об авторах:\n",
    "\n",
    "- `author_id` — идентификатор автора;\n",
    "- `author` — имя автора.\n",
    "\n",
    "**Таблица `publishers`**\n",
    "\n",
    "Содержит данные об издательствах:\n",
    "\n",
    "- `publisher_id` — идентификатор издательства;\n",
    "- `publisher` — название издательства;\n",
    "\n",
    "**Таблица `ratings`**\n",
    "\n",
    "Содержит данные о пользовательских оценках книг:\n",
    "\n",
    "- `rating_id` — идентификатор оценки;\n",
    "- `book_id` — идентификатор книги;\n",
    "- `username` — имя пользователя, оставившего оценку;\n",
    "- `rating` — оценка книги.\n",
    "\n",
    "**Таблица `reviews`**\n",
    "\n",
    "Содержит данные о пользовательских обзорах на книги:\n",
    "\n",
    "- `review_id` — идентификатор обзора;\n",
    "- `book_id` — идентификатор книги;\n",
    "- `username` — имя пользователя, написавшего обзор;\n",
    "- `text` — текст обзора."
   ]
  },
  {
   "cell_type": "code",
   "execution_count": 7,
   "id": "394f9ca2",
   "metadata": {},
   "outputs": [
    {
     "data": {
      "text/html": [
       "<div>\n",
       "<style scoped>\n",
       "    .dataframe tbody tr th:only-of-type {\n",
       "        vertical-align: middle;\n",
       "    }\n",
       "\n",
       "    .dataframe tbody tr th {\n",
       "        vertical-align: top;\n",
       "    }\n",
       "\n",
       "    .dataframe thead th {\n",
       "        text-align: right;\n",
       "    }\n",
       "</style>\n",
       "<table border=\"1\" class=\"dataframe\">\n",
       "  <thead>\n",
       "    <tr style=\"text-align: right;\">\n",
       "      <th></th>\n",
       "      <th>schemaname</th>\n",
       "      <th>tablename</th>\n",
       "      <th>tableowner</th>\n",
       "      <th>tablespace</th>\n",
       "      <th>hasindexes</th>\n",
       "      <th>hasrules</th>\n",
       "      <th>hastriggers</th>\n",
       "      <th>rowsecurity</th>\n",
       "    </tr>\n",
       "  </thead>\n",
       "  <tbody>\n",
       "    <tr>\n",
       "      <th>0</th>\n",
       "      <td>public</td>\n",
       "      <td>orders</td>\n",
       "      <td>praktikum_admin</td>\n",
       "      <td>None</td>\n",
       "      <td>True</td>\n",
       "      <td>False</td>\n",
       "      <td>False</td>\n",
       "      <td>False</td>\n",
       "    </tr>\n",
       "    <tr>\n",
       "      <th>1</th>\n",
       "      <td>public</td>\n",
       "      <td>visits</td>\n",
       "      <td>praktikum_admin</td>\n",
       "      <td>None</td>\n",
       "      <td>True</td>\n",
       "      <td>False</td>\n",
       "      <td>False</td>\n",
       "      <td>False</td>\n",
       "    </tr>\n",
       "    <tr>\n",
       "      <th>2</th>\n",
       "      <td>public</td>\n",
       "      <td>advertisment_costs</td>\n",
       "      <td>praktikum_admin</td>\n",
       "      <td>None</td>\n",
       "      <td>True</td>\n",
       "      <td>False</td>\n",
       "      <td>False</td>\n",
       "      <td>False</td>\n",
       "    </tr>\n",
       "    <tr>\n",
       "      <th>3</th>\n",
       "      <td>public</td>\n",
       "      <td>authors</td>\n",
       "      <td>praktikum_admin</td>\n",
       "      <td>None</td>\n",
       "      <td>True</td>\n",
       "      <td>False</td>\n",
       "      <td>True</td>\n",
       "      <td>False</td>\n",
       "    </tr>\n",
       "    <tr>\n",
       "      <th>4</th>\n",
       "      <td>public</td>\n",
       "      <td>second</td>\n",
       "      <td>praktikum_student</td>\n",
       "      <td>None</td>\n",
       "      <td>False</td>\n",
       "      <td>False</td>\n",
       "      <td>False</td>\n",
       "      <td>False</td>\n",
       "    </tr>\n",
       "    <tr>\n",
       "      <th>5</th>\n",
       "      <td>public</td>\n",
       "      <td>second_b</td>\n",
       "      <td>praktikum_student</td>\n",
       "      <td>None</td>\n",
       "      <td>False</td>\n",
       "      <td>False</td>\n",
       "      <td>False</td>\n",
       "      <td>False</td>\n",
       "    </tr>\n",
       "    <tr>\n",
       "      <th>6</th>\n",
       "      <td>public</td>\n",
       "      <td>publishers</td>\n",
       "      <td>praktikum_admin</td>\n",
       "      <td>None</td>\n",
       "      <td>True</td>\n",
       "      <td>False</td>\n",
       "      <td>True</td>\n",
       "      <td>False</td>\n",
       "    </tr>\n",
       "    <tr>\n",
       "      <th>7</th>\n",
       "      <td>public</td>\n",
       "      <td>author</td>\n",
       "      <td>praktikum_student</td>\n",
       "      <td>None</td>\n",
       "      <td>True</td>\n",
       "      <td>False</td>\n",
       "      <td>False</td>\n",
       "      <td>False</td>\n",
       "    </tr>\n",
       "    <tr>\n",
       "      <th>8</th>\n",
       "      <td>public</td>\n",
       "      <td>reviews</td>\n",
       "      <td>praktikum_admin</td>\n",
       "      <td>None</td>\n",
       "      <td>True</td>\n",
       "      <td>False</td>\n",
       "      <td>True</td>\n",
       "      <td>False</td>\n",
       "    </tr>\n",
       "    <tr>\n",
       "      <th>9</th>\n",
       "      <td>public</td>\n",
       "      <td>ratings</td>\n",
       "      <td>praktikum_admin</td>\n",
       "      <td>None</td>\n",
       "      <td>True</td>\n",
       "      <td>False</td>\n",
       "      <td>True</td>\n",
       "      <td>False</td>\n",
       "    </tr>\n",
       "    <tr>\n",
       "      <th>10</th>\n",
       "      <td>public</td>\n",
       "      <td>books</td>\n",
       "      <td>praktikum_admin</td>\n",
       "      <td>None</td>\n",
       "      <td>True</td>\n",
       "      <td>False</td>\n",
       "      <td>True</td>\n",
       "      <td>False</td>\n",
       "    </tr>\n",
       "  </tbody>\n",
       "</table>\n",
       "</div>"
      ],
      "text/plain": [
       "   schemaname           tablename         tableowner tablespace  hasindexes  \\\n",
       "0      public              orders    praktikum_admin       None        True   \n",
       "1      public              visits    praktikum_admin       None        True   \n",
       "2      public  advertisment_costs    praktikum_admin       None        True   \n",
       "3      public             authors    praktikum_admin       None        True   \n",
       "4      public              second  praktikum_student       None       False   \n",
       "5      public            second_b  praktikum_student       None       False   \n",
       "6      public          publishers    praktikum_admin       None        True   \n",
       "7      public              author  praktikum_student       None        True   \n",
       "8      public             reviews    praktikum_admin       None        True   \n",
       "9      public             ratings    praktikum_admin       None        True   \n",
       "10     public               books    praktikum_admin       None        True   \n",
       "\n",
       "    hasrules  hastriggers  rowsecurity  \n",
       "0      False        False        False  \n",
       "1      False        False        False  \n",
       "2      False        False        False  \n",
       "3      False         True        False  \n",
       "4      False        False        False  \n",
       "5      False        False        False  \n",
       "6      False         True        False  \n",
       "7      False        False        False  \n",
       "8      False         True        False  \n",
       "9      False         True        False  \n",
       "10     False         True        False  "
      ]
     },
     "metadata": {},
     "output_type": "display_data"
    },
    {
     "data": {
      "text/html": [
       "<div>\n",
       "<style scoped>\n",
       "    .dataframe tbody tr th:only-of-type {\n",
       "        vertical-align: middle;\n",
       "    }\n",
       "\n",
       "    .dataframe tbody tr th {\n",
       "        vertical-align: top;\n",
       "    }\n",
       "\n",
       "    .dataframe thead th {\n",
       "        text-align: right;\n",
       "    }\n",
       "</style>\n",
       "<table border=\"1\" class=\"dataframe\">\n",
       "  <thead>\n",
       "    <tr style=\"text-align: right;\">\n",
       "      <th></th>\n",
       "      <th>table_name</th>\n",
       "      <th>column_name</th>\n",
       "      <th>data_type</th>\n",
       "      <th>is_nullable</th>\n",
       "    </tr>\n",
       "  </thead>\n",
       "  <tbody>\n",
       "    <tr>\n",
       "      <th>0</th>\n",
       "      <td>authors</td>\n",
       "      <td>author_id</td>\n",
       "      <td>integer</td>\n",
       "      <td>NO</td>\n",
       "    </tr>\n",
       "    <tr>\n",
       "      <th>1</th>\n",
       "      <td>authors</td>\n",
       "      <td>author</td>\n",
       "      <td>text</td>\n",
       "      <td>YES</td>\n",
       "    </tr>\n",
       "    <tr>\n",
       "      <th>2</th>\n",
       "      <td>publishers</td>\n",
       "      <td>publisher_id</td>\n",
       "      <td>integer</td>\n",
       "      <td>NO</td>\n",
       "    </tr>\n",
       "    <tr>\n",
       "      <th>3</th>\n",
       "      <td>publishers</td>\n",
       "      <td>publisher</td>\n",
       "      <td>text</td>\n",
       "      <td>YES</td>\n",
       "    </tr>\n",
       "    <tr>\n",
       "      <th>4</th>\n",
       "      <td>reviews</td>\n",
       "      <td>review_id</td>\n",
       "      <td>integer</td>\n",
       "      <td>NO</td>\n",
       "    </tr>\n",
       "    <tr>\n",
       "      <th>5</th>\n",
       "      <td>reviews</td>\n",
       "      <td>book_id</td>\n",
       "      <td>integer</td>\n",
       "      <td>YES</td>\n",
       "    </tr>\n",
       "    <tr>\n",
       "      <th>6</th>\n",
       "      <td>reviews</td>\n",
       "      <td>username</td>\n",
       "      <td>text</td>\n",
       "      <td>YES</td>\n",
       "    </tr>\n",
       "    <tr>\n",
       "      <th>7</th>\n",
       "      <td>reviews</td>\n",
       "      <td>text</td>\n",
       "      <td>text</td>\n",
       "      <td>YES</td>\n",
       "    </tr>\n",
       "    <tr>\n",
       "      <th>8</th>\n",
       "      <td>ratings</td>\n",
       "      <td>rating_id</td>\n",
       "      <td>integer</td>\n",
       "      <td>NO</td>\n",
       "    </tr>\n",
       "    <tr>\n",
       "      <th>9</th>\n",
       "      <td>ratings</td>\n",
       "      <td>book_id</td>\n",
       "      <td>integer</td>\n",
       "      <td>YES</td>\n",
       "    </tr>\n",
       "    <tr>\n",
       "      <th>10</th>\n",
       "      <td>ratings</td>\n",
       "      <td>username</td>\n",
       "      <td>text</td>\n",
       "      <td>YES</td>\n",
       "    </tr>\n",
       "    <tr>\n",
       "      <th>11</th>\n",
       "      <td>ratings</td>\n",
       "      <td>rating</td>\n",
       "      <td>integer</td>\n",
       "      <td>YES</td>\n",
       "    </tr>\n",
       "    <tr>\n",
       "      <th>12</th>\n",
       "      <td>books</td>\n",
       "      <td>book_id</td>\n",
       "      <td>integer</td>\n",
       "      <td>NO</td>\n",
       "    </tr>\n",
       "    <tr>\n",
       "      <th>13</th>\n",
       "      <td>books</td>\n",
       "      <td>author_id</td>\n",
       "      <td>integer</td>\n",
       "      <td>YES</td>\n",
       "    </tr>\n",
       "    <tr>\n",
       "      <th>14</th>\n",
       "      <td>books</td>\n",
       "      <td>title</td>\n",
       "      <td>text</td>\n",
       "      <td>YES</td>\n",
       "    </tr>\n",
       "    <tr>\n",
       "      <th>15</th>\n",
       "      <td>books</td>\n",
       "      <td>num_pages</td>\n",
       "      <td>integer</td>\n",
       "      <td>YES</td>\n",
       "    </tr>\n",
       "    <tr>\n",
       "      <th>16</th>\n",
       "      <td>books</td>\n",
       "      <td>publication_date</td>\n",
       "      <td>date</td>\n",
       "      <td>YES</td>\n",
       "    </tr>\n",
       "    <tr>\n",
       "      <th>17</th>\n",
       "      <td>books</td>\n",
       "      <td>publisher_id</td>\n",
       "      <td>integer</td>\n",
       "      <td>YES</td>\n",
       "    </tr>\n",
       "  </tbody>\n",
       "</table>\n",
       "</div>"
      ],
      "text/plain": [
       "    table_name       column_name data_type is_nullable\n",
       "0      authors         author_id   integer          NO\n",
       "1      authors            author      text         YES\n",
       "2   publishers      publisher_id   integer          NO\n",
       "3   publishers         publisher      text         YES\n",
       "4      reviews         review_id   integer          NO\n",
       "5      reviews           book_id   integer         YES\n",
       "6      reviews          username      text         YES\n",
       "7      reviews              text      text         YES\n",
       "8      ratings         rating_id   integer          NO\n",
       "9      ratings           book_id   integer         YES\n",
       "10     ratings          username      text         YES\n",
       "11     ratings            rating   integer         YES\n",
       "12       books           book_id   integer          NO\n",
       "13       books         author_id   integer         YES\n",
       "14       books             title      text         YES\n",
       "15       books         num_pages   integer         YES\n",
       "16       books  publication_date      date         YES\n",
       "17       books      publisher_id   integer         YES"
      ]
     },
     "metadata": {},
     "output_type": "display_data"
    }
   ],
   "source": [
    "# какие ещё таблицы доступны в базе\n",
    "display(pd.io.sql.read_sql('''\n",
    "\n",
    "SELECT *\n",
    "FROM pg_catalog.pg_tables\n",
    "WHERE schemaname != 'pg_catalog' AND\n",
    "      schemaname != 'information_schema';\n",
    "\n",
    "''', con = engine))\n",
    "\n",
    "\n",
    "# смотрим на типы столбцов в интересующих таблицах\n",
    "display(pd.io.sql.read_sql('''\n",
    "SELECT \n",
    "    table_name, \n",
    "    column_name, \n",
    "    data_type, \n",
    "    is_nullable\n",
    "FROM INFORMATION_SCHEMA.COLUMNS \n",
    "WHERE table_name IN ('books', 'authors', 'publishers', 'ratings', 'reviews');\n",
    "''', con = engine))"
   ]
  },
  {
   "cell_type": "markdown",
   "id": "4c188018",
   "metadata": {},
   "source": [
    "## 2. Исследовательсткий анализ даных"
   ]
  },
  {
   "cell_type": "markdown",
   "id": "2dfda93c",
   "metadata": {},
   "source": [
    "### 2.1. Анализ количества выпущенных книг после 1 января 2000 года."
   ]
  },
  {
   "cell_type": "code",
   "execution_count": 8,
   "id": "89631556",
   "metadata": {},
   "outputs": [
    {
     "data": {
      "text/html": [
       "<div>\n",
       "<style scoped>\n",
       "    .dataframe tbody tr th:only-of-type {\n",
       "        vertical-align: middle;\n",
       "    }\n",
       "\n",
       "    .dataframe tbody tr th {\n",
       "        vertical-align: top;\n",
       "    }\n",
       "\n",
       "    .dataframe thead th {\n",
       "        text-align: right;\n",
       "    }\n",
       "</style>\n",
       "<table border=\"1\" class=\"dataframe\">\n",
       "  <thead>\n",
       "    <tr style=\"text-align: right;\">\n",
       "      <th></th>\n",
       "      <th>count_books</th>\n",
       "    </tr>\n",
       "  </thead>\n",
       "  <tbody>\n",
       "    <tr>\n",
       "      <th>0</th>\n",
       "      <td>819</td>\n",
       "    </tr>\n",
       "  </tbody>\n",
       "</table>\n",
       "</div>"
      ],
      "text/plain": [
       "   count_books\n",
       "0          819"
      ]
     },
     "execution_count": 8,
     "metadata": {},
     "output_type": "execute_result"
    }
   ],
   "source": [
    "query = '''\n",
    "            SELECT COUNT(book_id) AS count_books\n",
    "            FROM books\n",
    "            WHERE publication_date > '2000-01-01'\n",
    "'''\n",
    "my_func(query)"
   ]
  },
  {
   "cell_type": "markdown",
   "id": "185195a4",
   "metadata": {},
   "source": [
    "**Вывод:** 819 книг было выпущено после 1 января 2000 г."
   ]
  },
  {
   "cell_type": "markdown",
   "id": "55fb3c56",
   "metadata": {},
   "source": [
    "### 2.2. Анализ книг и определение количества обзоров и средней оценки"
   ]
  },
  {
   "cell_type": "code",
   "execution_count": 9,
   "id": "233a557b",
   "metadata": {},
   "outputs": [
    {
     "data": {
      "text/html": [
       "<div>\n",
       "<style scoped>\n",
       "    .dataframe tbody tr th:only-of-type {\n",
       "        vertical-align: middle;\n",
       "    }\n",
       "\n",
       "    .dataframe tbody tr th {\n",
       "        vertical-align: top;\n",
       "    }\n",
       "\n",
       "    .dataframe thead th {\n",
       "        text-align: right;\n",
       "    }\n",
       "</style>\n",
       "<table border=\"1\" class=\"dataframe\">\n",
       "  <thead>\n",
       "    <tr style=\"text-align: right;\">\n",
       "      <th></th>\n",
       "      <th>title</th>\n",
       "      <th>count_reviews</th>\n",
       "      <th>avg_rating</th>\n",
       "    </tr>\n",
       "  </thead>\n",
       "  <tbody>\n",
       "    <tr>\n",
       "      <th>0</th>\n",
       "      <td>Memoirs of a Geisha</td>\n",
       "      <td>8</td>\n",
       "      <td>4.14</td>\n",
       "    </tr>\n",
       "    <tr>\n",
       "      <th>1</th>\n",
       "      <td>Twilight (Twilight  #1)</td>\n",
       "      <td>7</td>\n",
       "      <td>3.66</td>\n",
       "    </tr>\n",
       "    <tr>\n",
       "      <th>2</th>\n",
       "      <td>Harry Potter and the Prisoner of Azkaban (Harr...</td>\n",
       "      <td>6</td>\n",
       "      <td>4.41</td>\n",
       "    </tr>\n",
       "    <tr>\n",
       "      <th>3</th>\n",
       "      <td>Harry Potter and the Chamber of Secrets (Harry...</td>\n",
       "      <td>6</td>\n",
       "      <td>4.29</td>\n",
       "    </tr>\n",
       "    <tr>\n",
       "      <th>4</th>\n",
       "      <td>The Book Thief</td>\n",
       "      <td>6</td>\n",
       "      <td>4.26</td>\n",
       "    </tr>\n",
       "    <tr>\n",
       "      <th>...</th>\n",
       "      <td>...</td>\n",
       "      <td>...</td>\n",
       "      <td>...</td>\n",
       "    </tr>\n",
       "    <tr>\n",
       "      <th>994</th>\n",
       "      <td>Disney's Beauty and the Beast (A Little Golden...</td>\n",
       "      <td>0</td>\n",
       "      <td>4.00</td>\n",
       "    </tr>\n",
       "    <tr>\n",
       "      <th>995</th>\n",
       "      <td>Essential Tales and Poems</td>\n",
       "      <td>0</td>\n",
       "      <td>4.00</td>\n",
       "    </tr>\n",
       "    <tr>\n",
       "      <th>996</th>\n",
       "      <td>Leonardo's Notebooks</td>\n",
       "      <td>0</td>\n",
       "      <td>4.00</td>\n",
       "    </tr>\n",
       "    <tr>\n",
       "      <th>997</th>\n",
       "      <td>Anne Rice's The Vampire Lestat: A Graphic Novel</td>\n",
       "      <td>0</td>\n",
       "      <td>3.67</td>\n",
       "    </tr>\n",
       "    <tr>\n",
       "      <th>998</th>\n",
       "      <td>The Natural Way to Draw</td>\n",
       "      <td>0</td>\n",
       "      <td>3.00</td>\n",
       "    </tr>\n",
       "  </tbody>\n",
       "</table>\n",
       "<p>999 rows × 3 columns</p>\n",
       "</div>"
      ],
      "text/plain": [
       "                                                 title  count_reviews  \\\n",
       "0                                  Memoirs of a Geisha              8   \n",
       "1                              Twilight (Twilight  #1)              7   \n",
       "2    Harry Potter and the Prisoner of Azkaban (Harr...              6   \n",
       "3    Harry Potter and the Chamber of Secrets (Harry...              6   \n",
       "4                                       The Book Thief              6   \n",
       "..                                                 ...            ...   \n",
       "994  Disney's Beauty and the Beast (A Little Golden...              0   \n",
       "995                          Essential Tales and Poems              0   \n",
       "996                               Leonardo's Notebooks              0   \n",
       "997    Anne Rice's The Vampire Lestat: A Graphic Novel              0   \n",
       "998                            The Natural Way to Draw              0   \n",
       "\n",
       "     avg_rating  \n",
       "0          4.14  \n",
       "1          3.66  \n",
       "2          4.41  \n",
       "3          4.29  \n",
       "4          4.26  \n",
       "..          ...  \n",
       "994        4.00  \n",
       "995        4.00  \n",
       "996        4.00  \n",
       "997        3.67  \n",
       "998        3.00  \n",
       "\n",
       "[999 rows x 3 columns]"
      ]
     },
     "execution_count": 9,
     "metadata": {},
     "output_type": "execute_result"
    }
   ],
   "source": [
    "query = '''\n",
    "            SELECT b.title, \n",
    "                COUNT(DISTINCT re.review_id) AS count_reviews, \n",
    "                ROUND(AVG(r.rating),2) AS avg_rating\n",
    "            FROM books AS b\n",
    "                LEFT JOIN ratings AS r ON r.book_id = b.book_id\n",
    "                LEFT JOIN reviews AS re ON re.book_id = b.book_id\n",
    "            GROUP BY b.title\n",
    "            ORDER BY count_reviews DESC, avg_rating DESC;\n",
    "'''\n",
    "my_func(query)"
   ]
  },
  {
   "cell_type": "markdown",
   "id": "b97c359c",
   "metadata": {},
   "source": [
    "Наиболее популярная книга по количеству обзоров Memoirs of a Geisha - 8 обзоров, средний рейтинг - 4,14 балла.\n",
    "\n",
    "На втором месте по количеству обзоров книга Twilight (Twilight #1) (7 обзоров) при это средний рейтинг 3,66 балла.\n",
    "\n",
    "Третье место делят несколько книг по количеству обзоров (по 6 обзоров у каждой), отметим только тех, кто входит в ТОП-5:\n",
    "* третье и четвертое место заняли книги про Harry Potter - Harry Potter and the Prisoner of Azkaban со средним рейтингом 4,41 балла и Harry Potter and the Chamber of Secrets со средним рейтингом 4,29 балла\n",
    "* пятое место заняла книга The Book Thief со средним рейтингом 4,26 балла.\n",
    "\n",
    "На последнем месте находится книга The Natural Way to Draw - 0 отзывов и средний рейтинг 3 балла."
   ]
  },
  {
   "cell_type": "markdown",
   "id": "6ae88eef",
   "metadata": {},
   "source": [
    "### 2.3.  Определение издательство, которое выпустило наибольшее число книг толще 50 страниц"
   ]
  },
  {
   "cell_type": "code",
   "execution_count": 10,
   "id": "60a3ce70",
   "metadata": {},
   "outputs": [
    {
     "data": {
      "text/html": [
       "<div>\n",
       "<style scoped>\n",
       "    .dataframe tbody tr th:only-of-type {\n",
       "        vertical-align: middle;\n",
       "    }\n",
       "\n",
       "    .dataframe tbody tr th {\n",
       "        vertical-align: top;\n",
       "    }\n",
       "\n",
       "    .dataframe thead th {\n",
       "        text-align: right;\n",
       "    }\n",
       "</style>\n",
       "<table border=\"1\" class=\"dataframe\">\n",
       "  <thead>\n",
       "    <tr style=\"text-align: right;\">\n",
       "      <th></th>\n",
       "      <th>publisher</th>\n",
       "      <th>count_books</th>\n",
       "    </tr>\n",
       "  </thead>\n",
       "  <tbody>\n",
       "    <tr>\n",
       "      <th>0</th>\n",
       "      <td>Penguin Books</td>\n",
       "      <td>42</td>\n",
       "    </tr>\n",
       "  </tbody>\n",
       "</table>\n",
       "</div>"
      ],
      "text/plain": [
       "       publisher  count_books\n",
       "0  Penguin Books           42"
      ]
     },
     "execution_count": 10,
     "metadata": {},
     "output_type": "execute_result"
    }
   ],
   "source": [
    "query = '''\n",
    "            SELECT p.publisher, COUNT(b.book_id) AS count_books\n",
    "            FROM books AS b\n",
    "                LEFT JOIN publishers AS p ON p.publisher_id = b.publisher_id\n",
    "            WHERE b.num_pages > 50\n",
    "            GROUP BY p.publisher\n",
    "            ORDER BY COUNT(b.book_id) DESC\n",
    "            LIMIT 1;\n",
    "'''\n",
    "my_func(query)"
   ]
  },
  {
   "cell_type": "markdown",
   "id": "b68aaf5b",
   "metadata": {},
   "source": [
    "**Вывод:** \n",
    "Издательство под названием Penguin Books выпустило наибольшее число книг (42) толще 50 страниц. "
   ]
  },
  {
   "cell_type": "markdown",
   "id": "f088082a",
   "metadata": {},
   "source": [
    "### 2.4. Определение автора с самой высокой средней оценкой книг (в анализе не участвуют книги с оценками менее 50)"
   ]
  },
  {
   "cell_type": "markdown",
   "id": "f778d183",
   "metadata": {},
   "source": [
    "При выполнении этого задания будем придерживаться следующей последовательности:\n",
    "1. Определение списка книг, на которые имеется более 50 оценок - делаем подзапрос.\n",
    "2. В основном запросе будем работать только с теми книгами, которые получили в пунке 1.\n",
    "3. Присоединим к таблице books таблицы authors и ratings.\n",
    "4. Сгруппируем строки по имени автора и высчитаем среднюю оценку книг автора.\n",
    "5. Произведем сортировку по среднему рейтингу книг автора в порядке убывания среднего рейтинга.\n",
    "6. Выведем 1 строку - имя автора и максимальное значение среднего рейтинга книг автора."
   ]
  },
  {
   "cell_type": "code",
   "execution_count": 11,
   "id": "532b77b8",
   "metadata": {},
   "outputs": [
    {
     "data": {
      "text/html": [
       "<div>\n",
       "<style scoped>\n",
       "    .dataframe tbody tr th:only-of-type {\n",
       "        vertical-align: middle;\n",
       "    }\n",
       "\n",
       "    .dataframe tbody tr th {\n",
       "        vertical-align: top;\n",
       "    }\n",
       "\n",
       "    .dataframe thead th {\n",
       "        text-align: right;\n",
       "    }\n",
       "</style>\n",
       "<table border=\"1\" class=\"dataframe\">\n",
       "  <thead>\n",
       "    <tr style=\"text-align: right;\">\n",
       "      <th></th>\n",
       "      <th>author</th>\n",
       "      <th>avg_rating</th>\n",
       "    </tr>\n",
       "  </thead>\n",
       "  <tbody>\n",
       "    <tr>\n",
       "      <th>0</th>\n",
       "      <td>J.K. Rowling/Mary GrandPré</td>\n",
       "      <td>4.29</td>\n",
       "    </tr>\n",
       "  </tbody>\n",
       "</table>\n",
       "</div>"
      ],
      "text/plain": [
       "                       author  avg_rating\n",
       "0  J.K. Rowling/Mary GrandPré        4.29"
      ]
     },
     "execution_count": 11,
     "metadata": {},
     "output_type": "execute_result"
    }
   ],
   "source": [
    "query = '''\n",
    "            SELECT a.author, ROUND(AVG(r.rating), 2) AS avg_rating\n",
    "            FROM books AS b\n",
    "                LEFT JOIN authors AS a ON a.author_id = b.author_id\n",
    "                LEFT JOIN ratings AS r ON r.book_id = b.book_id\n",
    "            WHERE b.book_id IN (SELECT book_id\n",
    "                                FROM ratings\n",
    "                                GROUP BY book_id\n",
    "                                HAVING COUNT(book_id) > 50)\n",
    "            GROUP BY a.author\n",
    "            ORDER BY AVG(r.rating) DESC\n",
    "            LIMIT 1;\n",
    "'''\n",
    "my_func(query)"
   ]
  },
  {
   "cell_type": "markdown",
   "id": "a39b6530",
   "metadata": {},
   "source": [
    "**Вывод**:\n",
    "Автор книг J.K. Rowling/Mary GrandPré имеет наибольшую среднюю оценку (4,29) своих произведений среди других авторов."
   ]
  },
  {
   "cell_type": "markdown",
   "id": "de95c5b2",
   "metadata": {},
   "source": [
    "### 2.5. Определение среднего количества обзоров от пользователей (в анализе не участвуют пользователи с количеством оценок менее 50)"
   ]
  },
  {
   "cell_type": "markdown",
   "id": "adba548f",
   "metadata": {},
   "source": [
    "При выполнении этого задания будем придерживаться следующей последовательности:\n",
    "1. Создадим временную таблицу temp, в которой будет храниться информация о пользователях и количество оставленных ими обзоров. При этом в эту таблицу не войдут пользователи оставившие меньше 50 оценок книг.\n",
    "2. На основании данных временной таблицы посчитаем среднее количество обзоров пользователей."
   ]
  },
  {
   "cell_type": "code",
   "execution_count": 12,
   "id": "8dc45ff5",
   "metadata": {},
   "outputs": [
    {
     "data": {
      "text/html": [
       "<div>\n",
       "<style scoped>\n",
       "    .dataframe tbody tr th:only-of-type {\n",
       "        vertical-align: middle;\n",
       "    }\n",
       "\n",
       "    .dataframe tbody tr th {\n",
       "        vertical-align: top;\n",
       "    }\n",
       "\n",
       "    .dataframe thead th {\n",
       "        text-align: right;\n",
       "    }\n",
       "</style>\n",
       "<table border=\"1\" class=\"dataframe\">\n",
       "  <thead>\n",
       "    <tr style=\"text-align: right;\">\n",
       "      <th></th>\n",
       "      <th>avg_rev</th>\n",
       "    </tr>\n",
       "  </thead>\n",
       "  <tbody>\n",
       "    <tr>\n",
       "      <th>0</th>\n",
       "      <td>24.33</td>\n",
       "    </tr>\n",
       "  </tbody>\n",
       "</table>\n",
       "</div>"
      ],
      "text/plain": [
       "   avg_rev\n",
       "0    24.33"
      ]
     },
     "execution_count": 12,
     "metadata": {},
     "output_type": "execute_result"
    }
   ],
   "source": [
    "query = '''\n",
    "            WITH temp AS (SELECT username, \n",
    "                                COUNT(username) AS count_rev\n",
    "                            FROM reviews\n",
    "                            WHERE username IN (SELECT username\n",
    "                                                FROM ratings\n",
    "                                                GROUP BY username\n",
    "                                                HAVING COUNT(username) > 50)\n",
    "                            GROUP BY username)\n",
    "                \n",
    "            SELECT ROUND(AVG(count_rev), 2) AS avg_rev\n",
    "            FROM temp;\n",
    "'''\n",
    "my_func(query)"
   ]
  },
  {
   "cell_type": "markdown",
   "id": "d96b7cf1",
   "metadata": {},
   "source": [
    "**Вывод:** \n",
    "В среднем 24 обзора делает пользователь на книги."
   ]
  },
  {
   "cell_type": "markdown",
   "id": "9d7b5cdb",
   "metadata": {},
   "source": [
    "### Дополнительный анализ\n",
    "\n",
    "Выведите таблицу, которая будет содержать по году публикации:\n",
    "\n",
    "- количество издательств,\n",
    "- количество выпущенных книг\n",
    "- сколько всего тысяч страниц было в изданных книгах\n",
    "\n",
    "(отобразить только те года, в которых издано более 30 книг)"
   ]
  },
  {
   "cell_type": "code",
   "execution_count": 13,
   "id": "c2534365",
   "metadata": {},
   "outputs": [
    {
     "data": {
      "text/html": [
       "<div>\n",
       "<style scoped>\n",
       "    .dataframe tbody tr th:only-of-type {\n",
       "        vertical-align: middle;\n",
       "    }\n",
       "\n",
       "    .dataframe tbody tr th {\n",
       "        vertical-align: top;\n",
       "    }\n",
       "\n",
       "    .dataframe thead th {\n",
       "        text-align: right;\n",
       "    }\n",
       "</style>\n",
       "<table border=\"1\" class=\"dataframe\">\n",
       "  <thead>\n",
       "    <tr style=\"text-align: right;\">\n",
       "      <th></th>\n",
       "      <th>year</th>\n",
       "      <th>count_publisher</th>\n",
       "      <th>count_book</th>\n",
       "      <th>total_page</th>\n",
       "    </tr>\n",
       "  </thead>\n",
       "  <tbody>\n",
       "    <tr>\n",
       "      <th>0</th>\n",
       "      <td>1999.0</td>\n",
       "      <td>26</td>\n",
       "      <td>41</td>\n",
       "      <td>15763</td>\n",
       "    </tr>\n",
       "    <tr>\n",
       "      <th>1</th>\n",
       "      <td>2000.0</td>\n",
       "      <td>35</td>\n",
       "      <td>38</td>\n",
       "      <td>13328</td>\n",
       "    </tr>\n",
       "    <tr>\n",
       "      <th>2</th>\n",
       "      <td>2001.0</td>\n",
       "      <td>41</td>\n",
       "      <td>60</td>\n",
       "      <td>21758</td>\n",
       "    </tr>\n",
       "    <tr>\n",
       "      <th>3</th>\n",
       "      <td>2002.0</td>\n",
       "      <td>62</td>\n",
       "      <td>94</td>\n",
       "      <td>38597</td>\n",
       "    </tr>\n",
       "    <tr>\n",
       "      <th>4</th>\n",
       "      <td>2003.0</td>\n",
       "      <td>65</td>\n",
       "      <td>105</td>\n",
       "      <td>41423</td>\n",
       "    </tr>\n",
       "    <tr>\n",
       "      <th>5</th>\n",
       "      <td>2004.0</td>\n",
       "      <td>88</td>\n",
       "      <td>124</td>\n",
       "      <td>46779</td>\n",
       "    </tr>\n",
       "    <tr>\n",
       "      <th>6</th>\n",
       "      <td>2005.0</td>\n",
       "      <td>89</td>\n",
       "      <td>138</td>\n",
       "      <td>55967</td>\n",
       "    </tr>\n",
       "    <tr>\n",
       "      <th>7</th>\n",
       "      <td>2006.0</td>\n",
       "      <td>109</td>\n",
       "      <td>184</td>\n",
       "      <td>68302</td>\n",
       "    </tr>\n",
       "    <tr>\n",
       "      <th>8</th>\n",
       "      <td>2007.0</td>\n",
       "      <td>38</td>\n",
       "      <td>50</td>\n",
       "      <td>18258</td>\n",
       "    </tr>\n",
       "  </tbody>\n",
       "</table>\n",
       "</div>"
      ],
      "text/plain": [
       "     year  count_publisher  count_book  total_page\n",
       "0  1999.0               26          41       15763\n",
       "1  2000.0               35          38       13328\n",
       "2  2001.0               41          60       21758\n",
       "3  2002.0               62          94       38597\n",
       "4  2003.0               65         105       41423\n",
       "5  2004.0               88         124       46779\n",
       "6  2005.0               89         138       55967\n",
       "7  2006.0              109         184       68302\n",
       "8  2007.0               38          50       18258"
      ]
     },
     "execution_count": 13,
     "metadata": {},
     "output_type": "execute_result"
    }
   ],
   "source": [
    "query = '''\n",
    "            SELECT EXTRACT(YEAR FROM publication_date) AS year,\n",
    "                    COUNT(DISTINCT publisher) AS count_publisher, \n",
    "                    COUNT(DISTINCT title) AS count_book, \n",
    "                    SUM(num_pages) AS total_page\n",
    "            FROM publishers AS p\n",
    "                LEFT JOIN books AS b ON p.publisher_id = b.publisher_id\n",
    "            WHERE EXTRACT(YEAR FROM publication_date) IN (SELECT DISTINCT EXTRACT(YEAR FROM publication_date) AS year_publications\n",
    "                                                        FROM books\n",
    "                                                        GROUP BY EXTRACT(YEAR FROM publication_date)\n",
    "                                                        HAVING COUNT(title) > 30)\n",
    "            GROUP BY 1;\n",
    "'''\n",
    "my_func(query)"
   ]
  },
  {
   "cell_type": "code",
   "execution_count": 14,
   "id": "1e94dee0",
   "metadata": {},
   "outputs": [
    {
     "data": {
      "text/html": [
       "<div>\n",
       "<style scoped>\n",
       "    .dataframe tbody tr th:only-of-type {\n",
       "        vertical-align: middle;\n",
       "    }\n",
       "\n",
       "    .dataframe tbody tr th {\n",
       "        vertical-align: top;\n",
       "    }\n",
       "\n",
       "    .dataframe thead th {\n",
       "        text-align: right;\n",
       "    }\n",
       "</style>\n",
       "<table border=\"1\" class=\"dataframe\">\n",
       "  <thead>\n",
       "    <tr style=\"text-align: right;\">\n",
       "      <th></th>\n",
       "      <th>0</th>\n",
       "      <th>1</th>\n",
       "      <th>2</th>\n",
       "      <th>3</th>\n",
       "      <th>4</th>\n",
       "      <th>5</th>\n",
       "      <th>6</th>\n",
       "      <th>7</th>\n",
       "      <th>8</th>\n",
       "    </tr>\n",
       "  </thead>\n",
       "  <tbody>\n",
       "    <tr>\n",
       "      <th>year</th>\n",
       "      <td>1999.0</td>\n",
       "      <td>2000.0</td>\n",
       "      <td>2001.0</td>\n",
       "      <td>2002.0</td>\n",
       "      <td>2003.0</td>\n",
       "      <td>2004.0</td>\n",
       "      <td>2005.0</td>\n",
       "      <td>2006.0</td>\n",
       "      <td>2007.0</td>\n",
       "    </tr>\n",
       "    <tr>\n",
       "      <th>count_publisher</th>\n",
       "      <td>26.0</td>\n",
       "      <td>35.0</td>\n",
       "      <td>41.0</td>\n",
       "      <td>62.0</td>\n",
       "      <td>65.0</td>\n",
       "      <td>88.0</td>\n",
       "      <td>89.0</td>\n",
       "      <td>109.0</td>\n",
       "      <td>38.0</td>\n",
       "    </tr>\n",
       "    <tr>\n",
       "      <th>count_book</th>\n",
       "      <td>41.0</td>\n",
       "      <td>38.0</td>\n",
       "      <td>60.0</td>\n",
       "      <td>94.0</td>\n",
       "      <td>105.0</td>\n",
       "      <td>124.0</td>\n",
       "      <td>138.0</td>\n",
       "      <td>184.0</td>\n",
       "      <td>50.0</td>\n",
       "    </tr>\n",
       "    <tr>\n",
       "      <th>total_page</th>\n",
       "      <td>15763.0</td>\n",
       "      <td>13328.0</td>\n",
       "      <td>21758.0</td>\n",
       "      <td>38597.0</td>\n",
       "      <td>41423.0</td>\n",
       "      <td>46779.0</td>\n",
       "      <td>55967.0</td>\n",
       "      <td>68302.0</td>\n",
       "      <td>18258.0</td>\n",
       "    </tr>\n",
       "  </tbody>\n",
       "</table>\n",
       "</div>"
      ],
      "text/plain": [
       "                       0        1        2        3        4        5  \\\n",
       "year              1999.0   2000.0   2001.0   2002.0   2003.0   2004.0   \n",
       "count_publisher     26.0     35.0     41.0     62.0     65.0     88.0   \n",
       "count_book          41.0     38.0     60.0     94.0    105.0    124.0   \n",
       "total_page       15763.0  13328.0  21758.0  38597.0  41423.0  46779.0   \n",
       "\n",
       "                       6        7        8  \n",
       "year              2005.0   2006.0   2007.0  \n",
       "count_publisher     89.0    109.0     38.0  \n",
       "count_book         138.0    184.0     50.0  \n",
       "total_page       55967.0  68302.0  18258.0  "
      ]
     },
     "execution_count": 14,
     "metadata": {},
     "output_type": "execute_result"
    }
   ],
   "source": [
    "my_func(query).T"
   ]
  },
  {
   "cell_type": "markdown",
   "id": "6a7bf5f5",
   "metadata": {},
   "source": [
    "**Вывод**: с 1999 по 2007 гг. было выпущенно более 30 книг в год. При этом наблюдается ежегодная динамика к увеличению количества выпускаемых книг и рост издательств.\n",
    "\n",
    "В 2007 г. видно падение по данным показателям, при этом необходим дополнительный анализ, где необходимо перепроверить на сколько полны данные по этому году."
   ]
  },
  {
   "cell_type": "markdown",
   "id": "4a002179",
   "metadata": {},
   "source": [
    "Выведите в одной таблице два числа — среднюю оценку тех книг, на которые написало отзывов более 3 человек и отдельно среднюю оценку остальных книг, сделайте выводы какой рейтинг больше"
   ]
  },
  {
   "cell_type": "code",
   "execution_count": 15,
   "id": "dd745bd3",
   "metadata": {},
   "outputs": [
    {
     "data": {
      "text/html": [
       "<div>\n",
       "<style scoped>\n",
       "    .dataframe tbody tr th:only-of-type {\n",
       "        vertical-align: middle;\n",
       "    }\n",
       "\n",
       "    .dataframe tbody tr th {\n",
       "        vertical-align: top;\n",
       "    }\n",
       "\n",
       "    .dataframe thead th {\n",
       "        text-align: right;\n",
       "    }\n",
       "</style>\n",
       "<table border=\"1\" class=\"dataframe\">\n",
       "  <thead>\n",
       "    <tr style=\"text-align: right;\">\n",
       "      <th></th>\n",
       "      <th>avg_rating_3</th>\n",
       "      <th>avg_rating_all</th>\n",
       "    </tr>\n",
       "  </thead>\n",
       "  <tbody>\n",
       "    <tr>\n",
       "      <th>0</th>\n",
       "      <td>3.949</td>\n",
       "      <td>3.928</td>\n",
       "    </tr>\n",
       "  </tbody>\n",
       "</table>\n",
       "</div>"
      ],
      "text/plain": [
       "   avg_rating_3  avg_rating_all\n",
       "0         3.949           3.928"
      ]
     },
     "execution_count": 15,
     "metadata": {},
     "output_type": "execute_result"
    }
   ],
   "source": [
    "query = '''\n",
    "            WITH temp AS (\n",
    "                        SELECT ROUND(AVG(rating), 3) AS avg_rating_3\n",
    "                        FROM books AS b\n",
    "                            LEFT JOIN ratings AS r ON b.book_id = r.book_id\n",
    "                        WHERE title IN (SELECT DISTINCT title\n",
    "                                        FROM books AS b\n",
    "                                            LEFT JOIN reviews AS r ON b.book_id = r.book_id\n",
    "                                        GROUP BY b.title\n",
    "                                        HAVING COUNT(r.username) > 3)\n",
    "                        ),\n",
    "                        \n",
    "            temp_2 AS (\n",
    "                        SELECT ROUND(AVG(rating),3) \n",
    "                                AS avg_rating_all\n",
    "                        FROM ratings AS b\n",
    "                    )\n",
    "                \n",
    "            SELECT avg_rating_3, avg_rating_all\n",
    "            FROM (SELECT *, ROW_NUMBER() OVER(ORDER BY avg_rating_3) n \n",
    "                    FROM temp) AS a\n",
    "                FULL OUTER JOIN (SELECT avg_rating_all,\n",
    "                                        ROW_NUMBER() OVER(ORDER BY avg_rating_all) n\n",
    "                                FROM temp_2) AS b\n",
    "                ON a.n = b.n\n",
    "                \n",
    "'''\n",
    "my_func(query)"
   ]
  },
  {
   "cell_type": "markdown",
   "id": "f056ac97",
   "metadata": {},
   "source": [
    "**Вывод**: Средний рейтинг книг с количеством отзывов более 3 незначительно больше общего среднего рейтинга, разница составляет 0,021 балла."
   ]
  },
  {
   "cell_type": "markdown",
   "id": "715ed17a",
   "metadata": {},
   "source": [
    "### 3. Общий вывод по проекту"
   ]
  },
  {
   "cell_type": "markdown",
   "id": "1ce43533",
   "metadata": {},
   "source": [
    "Для анализа была предоставлена база данных, которая содержала в сете следующие таблицы:\n",
    "* **Таблица `books`** содержит данные о книгах (Количество строк в таблице books - 1000),\n",
    "* **Таблица `authors`** содержит данные об авторах (Количество строк в таблице authors - 636),\n",
    "* **Таблица `publishers`** содержит данные об издательствах (Количество строк в таблице publishers - 340),\n",
    "* **Таблица `ratings`** содержит данные о пользовательских оценках книг (Количество строк в таблице ratings - 6456),\n",
    "* **Таблица `reviews`** содержит данные о пользовательских обзорах на книги (Количество строк в таблице reviews - 2793).\n",
    "\n",
    "**Результаты исследовательского анализа:**\n",
    "* 819 книг было выпущено после 1 января 2000 г.\n",
    "* Топ-5 популярных книги: \n",
    "    - Наиболее популярная книга по количеству обзоров Memoirs of a Geisha - 8 обзоров, средний рейтинг - 4,14 балла.\n",
    "    - На втором месте по количеству обзоров книга Twilight (Twilight #1) (7 обзоров) при это средний рейтинг 3,66 балла.\n",
    "    - Третье место делят несколько книг по количеству обзоров (по 6 обзоров у каждой), отметим только тех, кто входит в ТОП-5:\n",
    "        * третье и четвертое место заняли книги про Harry Potter - Harry Potter and the Prisoner of Azkaban со средним рейтингом 4,41 балла и Harry Potter and the Chamber of Secrets со средним рейтингом 4,29 балла\n",
    "        * пятое место заняла книга The Book Thief со средним рейтингом 4,26 балла.\n",
    "    - На последнем месте находится книга The Natural Way to Draw - 0 отзывов и средний рейтинг 3 балла.\n",
    "* Издательство под названием Penguin Books выпустило наибольшее число книг (42) толще 50 страниц.\n",
    "* Автор книг J.K. Rowling/Mary GrandPré имеет наибольшую среднюю оценку (4,29) своих произведений среди других авторов.\n",
    "* В среднем 24 обзора делает пользователь на книги.\n",
    "* с 1999 по 2007 гг. было выпущенно более 30 книг в год. При этом наблюдается ежегодная динамика к увеличению количества выпускаемых книг и рост издательств. В 2007 г. видно падение по данным показателям, при этом необходим дополнительный анализ, где необходимо перепроверить на сколько полны данные по этому году.\n",
    "* Средний рейтинг книг с количеством отзывов более 3 незначительно больше общего среднего рейтинга, разница составляет 0,021 балла."
   ]
  }
 ],
 "metadata": {
  "ExecuteTimeLog": [
   {
    "duration": 17,
    "start_time": "2023-04-17T09:15:43.845Z"
   },
   {
    "duration": 643,
    "start_time": "2023-04-17T09:15:43.864Z"
   },
   {
    "duration": 15257,
    "start_time": "2023-04-17T09:15:44.510Z"
   },
   {
    "duration": 5,
    "start_time": "2023-04-17T09:15:59.768Z"
   },
   {
    "duration": 8,
    "start_time": "2023-04-17T09:15:59.776Z"
   },
   {
    "duration": 1076,
    "start_time": "2023-04-17T09:15:59.786Z"
   },
   {
    "duration": 175,
    "start_time": "2023-04-17T09:16:00.864Z"
   },
   {
    "duration": 82,
    "start_time": "2023-04-17T09:16:01.043Z"
   },
   {
    "duration": 96,
    "start_time": "2023-04-17T09:16:01.127Z"
   },
   {
    "duration": 85,
    "start_time": "2023-04-17T09:16:01.225Z"
   },
   {
    "duration": 84,
    "start_time": "2023-04-17T09:16:01.312Z"
   },
   {
    "duration": 84,
    "start_time": "2023-04-17T09:16:01.398Z"
   },
   {
    "duration": 18,
    "start_time": "2023-04-17T09:18:08.660Z"
   },
   {
    "duration": 627,
    "start_time": "2023-04-17T09:18:08.681Z"
   },
   {
    "duration": 18482,
    "start_time": "2023-04-17T09:18:09.311Z"
   },
   {
    "duration": 5,
    "start_time": "2023-04-17T09:18:27.797Z"
   },
   {
    "duration": 21,
    "start_time": "2023-04-17T09:18:27.805Z"
   },
   {
    "duration": 1040,
    "start_time": "2023-04-17T09:18:27.829Z"
   },
   {
    "duration": 168,
    "start_time": "2023-04-17T09:18:28.871Z"
   },
   {
    "duration": 71,
    "start_time": "2023-04-17T09:18:29.045Z"
   },
   {
    "duration": 95,
    "start_time": "2023-04-17T09:18:29.118Z"
   },
   {
    "duration": 76,
    "start_time": "2023-04-17T09:18:29.215Z"
   },
   {
    "duration": 77,
    "start_time": "2023-04-17T09:18:29.293Z"
   },
   {
    "duration": 79,
    "start_time": "2023-04-17T09:18:29.372Z"
   },
   {
    "duration": 46,
    "start_time": "2023-04-17T12:28:27.220Z"
   },
   {
    "duration": 498,
    "start_time": "2023-04-17T12:28:31.740Z"
   },
   {
    "duration": 30154,
    "start_time": "2023-04-17T12:28:33.253Z"
   },
   {
    "duration": 2,
    "start_time": "2023-04-17T12:29:03.409Z"
   },
   {
    "duration": 293,
    "start_time": "2023-04-17T12:29:03.413Z"
   },
   {
    "duration": 73,
    "start_time": "2023-04-17T12:29:48.269Z"
   },
   {
    "duration": 71,
    "start_time": "2023-04-17T12:29:54.307Z"
   },
   {
    "duration": 74,
    "start_time": "2023-04-17T12:29:55.224Z"
   },
   {
    "duration": 99,
    "start_time": "2023-04-17T12:30:24.813Z"
   },
   {
    "duration": 106,
    "start_time": "2023-04-17T12:30:33.762Z"
   },
   {
    "duration": 139,
    "start_time": "2023-04-17T12:30:47.015Z"
   },
   {
    "duration": 98,
    "start_time": "2023-04-17T12:31:10.145Z"
   },
   {
    "duration": 88,
    "start_time": "2023-04-17T12:34:48.383Z"
   },
   {
    "duration": 494,
    "start_time": "2023-04-17T12:35:11.192Z"
   },
   {
    "duration": 88,
    "start_time": "2023-04-17T12:35:14.283Z"
   },
   {
    "duration": 114,
    "start_time": "2023-04-17T12:38:39.184Z"
   },
   {
    "duration": 14,
    "start_time": "2023-04-17T19:18:28.286Z"
   },
   {
    "duration": 468,
    "start_time": "2023-04-17T19:18:28.302Z"
   },
   {
    "duration": 15821,
    "start_time": "2023-04-17T19:18:28.771Z"
   },
   {
    "duration": 4,
    "start_time": "2023-04-17T19:18:44.594Z"
   },
   {
    "duration": 9,
    "start_time": "2023-04-17T19:18:44.600Z"
   },
   {
    "duration": 891,
    "start_time": "2023-04-17T19:18:44.611Z"
   },
   {
    "duration": 173,
    "start_time": "2023-04-17T19:18:45.504Z"
   },
   {
    "duration": 67,
    "start_time": "2023-04-17T19:18:45.679Z"
   },
   {
    "duration": 91,
    "start_time": "2023-04-17T19:18:45.748Z"
   },
   {
    "duration": 77,
    "start_time": "2023-04-17T19:18:45.841Z"
   },
   {
    "duration": 68,
    "start_time": "2023-04-17T19:18:45.920Z"
   },
   {
    "duration": 71,
    "start_time": "2023-04-17T19:18:45.989Z"
   },
   {
    "duration": 69,
    "start_time": "2023-04-17T19:18:46.061Z"
   }
  ],
  "kernelspec": {
   "display_name": "Python 3 (ipykernel)",
   "language": "python",
   "name": "python3"
  },
  "language_info": {
   "codemirror_mode": {
    "name": "ipython",
    "version": 3
   },
   "file_extension": ".py",
   "mimetype": "text/x-python",
   "name": "python",
   "nbconvert_exporter": "python",
   "pygments_lexer": "ipython3",
   "version": "3.9.12"
  },
  "toc": {
   "base_numbering": 1,
   "nav_menu": {},
   "number_sections": true,
   "sideBar": true,
   "skip_h1_title": true,
   "title_cell": "Table of Contents",
   "title_sidebar": "Contents",
   "toc_cell": false,
   "toc_position": {},
   "toc_section_display": true,
   "toc_window_display": false
  }
 },
 "nbformat": 4,
 "nbformat_minor": 5
}
